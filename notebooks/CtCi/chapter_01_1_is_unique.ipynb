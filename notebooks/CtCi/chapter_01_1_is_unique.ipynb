{
 "cells": [
  {
   "cell_type": "markdown",
   "id": "195431aa-3afc-4d9b-a387-e317eefa5cb1",
   "metadata": {},
   "source": [
    "**1.1 is_unique** algorithm to determine if a string has all unique characters ; without additional data structures\n",
    "\n",
    "Assumption: string is ASCII encoded >> ASCII encodes 128 chars"
   ]
  },
  {
   "cell_type": "code",
   "execution_count": 81,
   "id": "a66bd613-05ee-4cc6-b52d-c3e4f038c024",
   "metadata": {},
   "outputs": [
    {
     "name": "stdout",
     "output_type": "stream",
     "text": [
      "868 ns ± 118 ns per loop (mean ± std. dev. of 7 runs, 1,000,000 loops each)\n"
     ]
    }
   ],
   "source": [
    "# WO/ADDITIONAL DATA STRUCTURE\n",
    "\n",
    "\"\"\"\n",
    "(1) if string was to contain all possible ASCII chars and all chars are unique then len string cannot be > 128 \n",
    "(2) sort() will sort the list in-place, mutating its indexes and returning None , \n",
    "    whereas sorted() will return a new sorted list leaving the original list unchanged.\n",
    "    In this case, as we need to make a list anyway, use sorted()\n",
    "\n",
    "Big O\n",
    " - O(n) for inserting string xhars into a List + \n",
    " - O(n log(n)) for sorting + \n",
    " - O(n) for traversing string\n",
    "\n",
    ">> O(n + n log(n) + n) = O(2n + n log(n)) = O(n + n log(n)) = O(n log(n)) where n log(n) is the dominant term  \n",
    "\"\"\"\n",
    "\n",
    "# if allowed to sort string\n",
    "\n",
    "def is_unique(string):\n",
    "    if len(string) > 128: # (1)\n",
    "        return False \n",
    "    string_ls = sorted(string) # (2)\n",
    "    for i in range(len(string_ls)-1):\n",
    "        if string_ls[i] == string_ls[i+1]:\n",
    "            return False\n",
    "    return True\n",
    "    \n",
    "%timeit is_unique('abl')"
   ]
  },
  {
   "cell_type": "code",
   "execution_count": 80,
   "id": "bc8e6add-4494-4c6a-93df-e24c42482a25",
   "metadata": {},
   "outputs": [
    {
     "name": "stdout",
     "output_type": "stream",
     "text": [
      "980 ns ± 94.4 ns per loop (mean ± std. dev. of 7 runs, 1,000,000 loops each)\n"
     ]
    }
   ],
   "source": [
    "# WO/ADDITIONAL DATA STRUCTURE\n",
    "\n",
    "def is_unique(string):\n",
    "    if len(string) > 128: # (1)\n",
    "        return False\n",
    "    ls = []\n",
    "    for i, _ in enumerate(string):\n",
    "        val = ord(string[i]) # get ASCII value of char\n",
    "        if not val in ls:\n",
    "            ls.append(val)\n",
    "        else:\n",
    "            return False\n",
    "    return True\n",
    "\n",
    "%timeit is_unique('abl')"
   ]
  }
 ],
 "metadata": {
  "kernelspec": {
   "display_name": "Python 3 (ipykernel)",
   "language": "python",
   "name": "python3"
  },
  "language_info": {
   "codemirror_mode": {
    "name": "ipython",
    "version": 3
   },
   "file_extension": ".py",
   "mimetype": "text/x-python",
   "name": "python",
   "nbconvert_exporter": "python",
   "pygments_lexer": "ipython3",
   "version": "3.9.1"
  }
 },
 "nbformat": 4,
 "nbformat_minor": 5
}

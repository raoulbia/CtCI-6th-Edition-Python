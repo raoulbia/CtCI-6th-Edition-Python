{
 "cells": [
  {
   "cell_type": "code",
   "execution_count": 1,
   "id": "59956159-e967-4298-ac1f-40c989ceb5e7",
   "metadata": {},
   "outputs": [],
   "source": [
    "import networkx as nx\n",
    "import matplotlib.pyplot as plt\n",
    "from collections import deque"
   ]
  },
  {
   "cell_type": "code",
   "execution_count": 2,
   "id": "558b59f9-341d-463c-8b1f-9268fdcf9430",
   "metadata": {},
   "outputs": [],
   "source": [
    "class Graph:\n",
    "    def __init__(self):\n",
    "        self.nodes = []\n",
    "        \n",
    "class Node:\n",
    "    def __init__(self):\n",
    "        self.name = ''\n",
    "        self.children = []\n",
    "    "
   ]
  },
  {
   "cell_type": "code",
   "execution_count": 54,
   "id": "70c58b39-7ffa-46d9-a7b1-d1e00e841cef",
   "metadata": {},
   "outputs": [],
   "source": [
    "graph = {\n",
    "    \"A\": [\"B\", \"C\"],\n",
    "    \"B\": [\"D\"],\n",
    "    \"C\": [\"D\", \"E\"],\n",
    "    \"D\": [\"B\", \"C\"],\n",
    "    \"E\": [\"C\", \"F\"],\n",
    "    \"F\": [\"E\", \"O\", \"I\", \"G\"],\n",
    "    \"G\": [\"F\", \"H\"],\n",
    "    \"H\": [\"G\"],\n",
    "    \"I\": [\"F\", \"J\"],\n",
    "    \"O\": [\"F\"],\n",
    "    \"J\": [\"K\", \"L\", \"I\"],\n",
    "    \"K\": [\"J\"],\n",
    "    \"L\": [\"J\"],\n",
    "    \"P\": [\"Q\", \"R\"],\n",
    "    \"Q\": [\"P\", \"R\"],\n",
    "    \"R\": [\"P\", \"Q\"],\n",
    "}"
   ]
  },
  {
   "cell_type": "code",
   "execution_count": 87,
   "id": "cc3bd815-7028-49ae-9139-302f424ab89c",
   "metadata": {},
   "outputs": [],
   "source": [
    "\"\"\"\n",
    "https://github.com/minsuk-heo/problemsolving/blob/master/graph/dfs.py\n",
    "vertexList = ['0', '1', '2', '3', '4', '5', '6']\n",
    "edgeList = [(0,1), (0,2), (1,0) , (1,3) , (2,0) , (2,4) , (2,5) , (3,1), (4,2) , (4,6), (5,2), (6,4)]\n",
    "\"\"\"\n",
    "graph = {\n",
    "    \"A\": [\"B\", \"C\"],\n",
    "    \"B\": [\"A\", \"D\"],\n",
    "    \"C\": [\"A\", \"E\", \"F\"],\n",
    "    \"D\": [\"B\"],\n",
    "    \"E\": [\"C\", \"G\"],\n",
    "    \"F\": [\"C\"],\n",
    "    \"G\": [\"E\"]\n",
    "}"
   ]
  },
  {
   "cell_type": "code",
   "execution_count": 88,
   "id": "01a9e8e0-7675-4b79-9813-55bb99c7bb48",
   "metadata": {},
   "outputs": [],
   "source": [
    "# make DIY Graph\n",
    "g = Graph()\n",
    "for k, v in graph.items():\n",
    "    n = Node()\n",
    "    n.name = k\n",
    "    n.children = v\n",
    "    g.nodes.append(n)\n",
    "g.nodes[0].name\n",
    "\n",
    "# get edges to feed into nx\n",
    "edges = []\n",
    "for source in g.nodes:\n",
    "    for destination in source.children:\n",
    "        edges.append((source.name, destination))\n",
    "        \n",
    "# make NX Graph\n",
    "G = nx.Graph()\n",
    "G.add_nodes_from([node.name for node in g.nodes])\n",
    "G.add_edges_from(edges)"
   ]
  },
  {
   "cell_type": "code",
   "execution_count": 89,
   "id": "12c24f38-0e7d-4216-acdd-3f247ab6d143",
   "metadata": {},
   "outputs": [
    {
     "data": {
      "image/png": "[encoded data removed]",
      "text/plain": [
       "<Figure size 432x288 with 1 Axes>"
      ]
     },
     "metadata": {},
     "output_type": "display_data"
    }
   ],
   "source": [
    "nx.draw(nx.Graph(G), with_labels = True)\n",
    "plt.show()"
   ]
  },
  {
   "cell_type": "markdown",
   "id": "65edea6a-2568-4266-98c6-7a2a42604a04",
   "metadata": {},
   "source": [
    "**DFS** \n",
    "\n",
    "* Explore each branch completely before moving on to the next branch\n",
    "* implement with recursion to be more elegant but can be done without\n",
    "* don't need a stack or queue, that will just slow things down \n",
    "* just keep track of visited"
   ]
  },
  {
   "cell_type": "code",
   "execution_count": 57,
   "id": "7de3c22b-b3b0-4636-acb1-c808b2488b82",
   "metadata": {},
   "outputs": [
    {
     "name": "stdout",
     "output_type": "stream",
     "text": [
      "9.8 µs ± 392 ns per loop (mean ± std. dev. of 7 runs, 100,000 loops each)\n"
     ]
    }
   ],
   "source": [
    "%%timeit #-r 10 -n 1\n",
    "\n",
    "visited = {}\n",
    "stack = []\n",
    "traversal_order = []\n",
    "\n",
    "def dfs(graph, v):\n",
    "    for node in graph.keys():\n",
    "        visited[node] = False\n",
    "    stack.append(v)\n",
    "    while stack:\n",
    "        current = stack.pop()\n",
    "        visited[current]  = True\n",
    "        # traversal_order.append(current)\n",
    "        for adj in graph[current]:\n",
    "            if visited[adj] == False:\n",
    "                stack.append(adj)\n",
    "            visited[adj] == True\n",
    "                \n",
    "\n",
    "dfs(graph, 'A')\n",
    "# print(traversal_order)"
   ]
  },
  {
   "cell_type": "code",
   "execution_count": 78,
   "id": "00ec4ecb-32b4-4822-bcd6-3b7bb5ff2b26",
   "metadata": {},
   "outputs": [
    {
     "name": "stdout",
     "output_type": "stream",
     "text": [
      "3.72 µs ± 258 ns per loop (mean ± std. dev. of 7 runs, 100,000 loops each)\n"
     ]
    }
   ],
   "source": [
    "%%timeit \n",
    "\n",
    "visited = {}\n",
    "traversal_order = []\n",
    "# wo/QUEUE is FASTER !!\n",
    "\n",
    "def dfs(graph, v, visited):      \n",
    "    visited[v]  = True\n",
    "    # traversal_order.append(v)\n",
    "    for adj in graph[v]:\n",
    "        if visited[adj] == False:\n",
    "            dfs(graph, adj, visited)\n",
    "                \n",
    "for node in graph.keys():\n",
    "    visited[node] = False\n",
    "dfs(graph, 'A', visited)\n",
    "# print(traversal_order)"
   ]
  },
  {
   "cell_type": "markdown",
   "id": "2f5923a0-ded6-4abb-b9e2-fac0af56bbd7",
   "metadata": {},
   "source": [
    "**BFS**\n",
    "\n",
    "* explore each neighbour before going on to any of their children\n",
    "* iterative solution using a QUEUE\n",
    "* NOT recursive!"
   ]
  },
  {
   "cell_type": "code",
   "execution_count": 92,
   "id": "830a29c1-61c5-4256-95c3-b4443f70e539",
   "metadata": {},
   "outputs": [
    {
     "name": "stdout",
     "output_type": "stream",
     "text": [
      "3.05 µs ± 479 ns per loop (mean ± std. dev. of 7 runs, 100,000 loops each)\n"
     ]
    }
   ],
   "source": [
    "%%timeit\n",
    "traversal_order = []\n",
    "\n",
    "def bfs(graph, v):\n",
    "    visited = {}\n",
    "    for node in graph.keys():\n",
    "        visited[node] = False\n",
    "    queue = deque()\n",
    "    queue.append(v)\n",
    "    visited[v]  = True\n",
    "    while queue:\n",
    "        current = queue.popleft()\n",
    "        # traversal_order.append(current)\n",
    "        for adj in graph[current]: # for n in current.adjacent           \n",
    "            if visited[adj] == False:\n",
    "                visited[adj] = True\n",
    "                queue.append(adj)\n",
    "                \n",
    "\n",
    "bfs(graph, 'A')\n",
    "# print(traversal_order)"
   ]
  }
 ],
 "metadata": {
  "kernelspec": {
   "display_name": "Python 3 (ipykernel)",
   "language": "python",
   "name": "python3"
  },
  "language_info": {
   "codemirror_mode": {
    "name": "ipython",
    "version": 3
   },
   "file_extension": ".py",
   "mimetype": "text/x-python",
   "name": "python",
   "nbconvert_exporter": "python",
   "pygments_lexer": "ipython3",
   "version": "3.9.1"
  }
 },
 "nbformat": 4,
 "nbformat_minor": 5
}

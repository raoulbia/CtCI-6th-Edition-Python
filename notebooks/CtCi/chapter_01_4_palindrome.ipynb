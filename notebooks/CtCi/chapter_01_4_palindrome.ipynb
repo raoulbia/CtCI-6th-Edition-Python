{
 "cells": [
  {
   "cell_type": "code",
   "execution_count": 15,
   "id": "ab4fa53d-9a5e-47e2-8b30-ab5b64046a7f",
   "metadata": {},
   "outputs": [
    {
     "name": "stdout",
     "output_type": "stream",
     "text": [
      "{'t': 2, 'a': 2, 'c': 2, 'o': 1}\n"
     ]
    },
    {
     "data": {
      "text/plain": [
       "True"
      ]
     },
     "execution_count": 15,
     "metadata": {},
     "output_type": "execute_result"
    }
   ],
   "source": [
    "\"\"\"p195\n",
    "at most one character can have an odd count\"\"\"\n",
    "def palindrome_permuation(s):\n",
    "    d = {}\n",
    "    s_clean = ''.join(ch for ch in s if ch.isalpha())\n",
    "    if len(s_clean) == 1:\n",
    "        return False\n",
    "    for c in s_clean:\n",
    "        if not c in d.keys():\n",
    "            d[c] = 1\n",
    "        else:\n",
    "            d[c] += 1\n",
    "    cnt_odd = 0\n",
    "    print(d)\n",
    "    for k,v in d.items():\n",
    "        # IMPORTANT: check if odd/even BEFORE checking if cnt_odd > 1\n",
    "        if (v % 2) != 0:\n",
    "            cnt_odd += 1\n",
    "        if cnt_odd > 1:\n",
    "            return False\n",
    "    return True\n",
    "    \n",
    "    \n",
    "s = 'tact coa'\n",
    "palindrome_permuation(s)"
   ]
  }
 ],
 "metadata": {
  "kernelspec": {
   "display_name": "Python 3 (ipykernel)",
   "language": "python",
   "name": "python3"
  },
  "language_info": {
   "codemirror_mode": {
    "name": "ipython",
    "version": 3
   },
   "file_extension": ".py",
   "mimetype": "text/x-python",
   "name": "python",
   "nbconvert_exporter": "python",
   "pygments_lexer": "ipython3",
   "version": "3.9.1"
  }
 },
 "nbformat": 4,
 "nbformat_minor": 5
}

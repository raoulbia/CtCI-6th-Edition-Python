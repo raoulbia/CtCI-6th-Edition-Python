{
 "cells": [
  {
   "cell_type": "markdown",
   "id": "a9b20685-b74f-4fcf-8abf-11110e4b8364",
   "metadata": {},
   "source": [
    "**1.2 Check Permutation** Given two strings decide whether one is a permutation of the other"
   ]
  },
  {
   "cell_type": "code",
   "execution_count": 96,
   "id": "b8166ce0-6244-4eeb-8965-7215b67d854c",
   "metadata": {},
   "outputs": [
    {
     "name": "stdout",
     "output_type": "stream",
     "text": [
      "723 ns ± 64.1 ns per loop (mean ± std. dev. of 7 runs, 1,000,000 loops each)\n"
     ]
    },
    {
     "data": {
      "text/plain": [
       "True"
      ]
     },
     "execution_count": 96,
     "metadata": {},
     "output_type": "execute_result"
    }
   ],
   "source": [
    "# sol 1: permutations of the same string are equal when sorted\n",
    "# O(n log(n)) + O(n log(n)) = O(n log(n) + n log(n)) = O(2(n log(n))) = O(n log(n))\n",
    "\n",
    "def is_permutation(string1, string2):\n",
    "    if len(string1) != len(string2):\n",
    "        return False\n",
    "    string1_ls, string2_ls = sorted(string1), sorted(string2)\n",
    "    if string1_ls == string2_ls:\n",
    "        return True\n",
    "    return False\n",
    "\n",
    "%timeit is_permutation('bla', 'lab')\n",
    "is_permutation('bla', 'lab')"
   ]
  },
  {
   "cell_type": "code",
   "execution_count": 104,
   "id": "7b79f020-4cd9-4605-a9fd-52629e2ad7af",
   "metadata": {},
   "outputs": [
    {
     "name": "stdout",
     "output_type": "stream",
     "text": [
      "2.07 µs ± 271 ns per loop (mean ± std. dev. of 7 runs, 100,000 loops each)\n"
     ]
    },
    {
     "data": {
      "text/plain": [
       "True"
      ]
     },
     "execution_count": 104,
     "metadata": {},
     "output_type": "execute_result"
    }
   ],
   "source": [
    "# sol 2: for each string, count how many times each char appears, then compare those counts\n",
    "# O(n) + O(n) + O(n) = O(3n) = O(n)\n",
    "\n",
    "# The ord() function returns an integer representing the Unicode character.\n",
    "# we use ASCII representation of a letter to populate a list (aka array)\n",
    "# the ASCII representation of a letter is uses to index into the list and icrement its value\n",
    "def is_permutation(string1, string2):\n",
    "    if len(string1) != len(string2): # O(1)\n",
    "        return False\n",
    "    \n",
    "    letters = [0] * 128\n",
    "    for c in string1:\n",
    "        letters[ord(c)] += 1\n",
    "        \n",
    "    for c in string2:\n",
    "        if letters[ord(c)] == 0: # we found a letter in string2 that isn't in string1 ....\n",
    "            return False\n",
    "        letters[ord(c)] += 1\n",
    "    return True\n",
    "\n",
    "%timeit is_permutation('bla', 'lab')\n",
    "is_permutation('bla', 'lab')"
   ]
  }
 ],
 "metadata": {
  "kernelspec": {
   "display_name": "Python 3 (ipykernel)",
   "language": "python",
   "name": "python3"
  },
  "language_info": {
   "codemirror_mode": {
    "name": "ipython",
    "version": 3
   },
   "file_extension": ".py",
   "mimetype": "text/x-python",
   "name": "python",
   "nbconvert_exporter": "python",
   "pygments_lexer": "ipython3",
   "version": "3.9.1"
  }
 },
 "nbformat": 4,
 "nbformat_minor": 5
}

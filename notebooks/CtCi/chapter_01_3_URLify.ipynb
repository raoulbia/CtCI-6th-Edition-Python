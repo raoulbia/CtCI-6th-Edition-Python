{
 "cells": [
  {
   "cell_type": "markdown",
   "id": "23cac759-5430-41ee-84f8-ddcb4f498203",
   "metadata": {},
   "source": [
    "**1.3 URLify**\n",
    "\n",
    "two-scan approach\n",
    "* count the number of spaces and triple the count to replace with %20. This wll give us the final len of the string.\n",
    "* do in reverse order: when you see a space replace otherwise copy the original char."
   ]
  },
  {
   "cell_type": "code",
   "execution_count": 144,
   "id": "eed2359d-f633-48a2-83af-916c709131ef",
   "metadata": {},
   "outputs": [
    {
     "name": "stdout",
     "output_type": "stream",
     "text": [
      "3.46 µs ± 426 ns per loop (mean ± std. dev. of 7 runs, 100,000 loops each)\n"
     ]
    },
    {
     "data": {
      "text/plain": [
       "'Mr02%John02%Smith02%02%02%02%02%02%02%'"
      ]
     },
     "execution_count": 144,
     "metadata": {},
     "output_type": "execute_result"
    }
   ],
   "source": [
    "\"\"\"\n",
    "\"\"\"\n",
    "\n",
    "def urlify(string):\n",
    "    # scan 1\n",
    "    cnt = 0\n",
    "    for c in string: #  O(n) \n",
    "        if c == ' ':\n",
    "            cnt += 1\n",
    "    new_len = cnt * 3 \n",
    "    tmp = ''\n",
    "    string = string[::-1] #  O(n) \n",
    "    for c in string: #  O(n) \n",
    "        if c == ' ':\n",
    "            tmp += '%20'\n",
    "        else: \n",
    "            tmp += c\n",
    "    return tmp[::-1] #  O(n) \n",
    "\n",
    "string = \"Mr John Smith       \"\n",
    "%timeit urlify(string)\n",
    "urlify(string)"
   ]
  }
 ],
 "metadata": {
  "kernelspec": {
   "display_name": "Python 3 (ipykernel)",
   "language": "python",
   "name": "python3"
  },
  "language_info": {
   "codemirror_mode": {
    "name": "ipython",
    "version": 3
   },
   "file_extension": ".py",
   "mimetype": "text/x-python",
   "name": "python",
   "nbconvert_exporter": "python",
   "pygments_lexer": "ipython3",
   "version": "3.9.1"
  }
 },
 "nbformat": 4,
 "nbformat_minor": 5
}

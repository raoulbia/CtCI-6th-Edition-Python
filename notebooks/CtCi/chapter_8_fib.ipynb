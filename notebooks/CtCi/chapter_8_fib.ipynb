{
 "cells": [
  {
   "cell_type": "code",
   "execution_count": 59,
   "id": "6ff3500f-27d2-4c9d-b847-606909a2cf0d",
   "metadata": {},
   "outputs": [
    {
     "name": "stdout",
     "output_type": "stream",
     "text": [
      "32.3 ns ± 3.59 ns per loop (mean ± std. dev. of 7 runs, 10,000,000 loops each)\n"
     ]
    }
   ],
   "source": [
    "# fast but NOT recursive\n",
    "def fib(n):\n",
    "    res = []\n",
    "    for i in range(n+1):\n",
    "        if i == 0:\n",
    "            res.append(i) \n",
    "        elif i == 1:\n",
    "            res.append(i) \n",
    "        else:\n",
    "            tmp = res[i-1] + res[i-2]\n",
    "            res.append(tmp) \n",
    "    return res\n",
    "t = fib(50)\n",
    "%timeit res\n",
    "# t[-1]"
   ]
  },
  {
   "cell_type": "code",
   "execution_count": 30,
   "id": "679e9481-99aa-4044-9187-0613ee3a82c4",
   "metadata": {},
   "outputs": [
    {
     "name": "stdout",
     "output_type": "stream",
     "text": [
      "560 ms ± 33.9 ms per loop (mean ± std. dev. of 7 runs, 1 loop each)\n"
     ]
    },
    {
     "data": {
      "text/plain": [
       "832040"
      ]
     },
     "execution_count": 30,
     "metadata": {},
     "output_type": "execute_result"
    }
   ],
   "source": [
    "# slow\n",
    "def fib(n):\n",
    "    if n == 0:\n",
    "        return 0\n",
    "    elif n == 1:\n",
    "        return 1\n",
    "    return fib(n-1) + fib(n-2)\n",
    "\n",
    "%timeit fib(30)\n",
    "fib(30)"
   ]
  },
  {
   "cell_type": "code",
   "execution_count": 23,
   "id": "2d60d894-bcd0-4e53-b89e-d3f50862ce65",
   "metadata": {},
   "outputs": [
    {
     "name": "stdout",
     "output_type": "stream",
     "text": [
      "22.2 µs ± 2.37 µs per loop (mean ± std. dev. of 7 runs, 10,000 loops each)\n",
      "The nth Fibonacci number: 12586269025\n"
     ]
    }
   ],
   "source": [
    "# fast but overly complex (two functions)\n",
    "def fibonacci_helper(n, r):\n",
    "    \"\"\"Return the nth Fibonacci number and store the ith Fibonacci number in\n",
    "    r[i] for 0 <= i <= n.\"\"\"\n",
    "    if r[n] >= 0:\n",
    "        return r[n]\n",
    " \n",
    "    if (n == 0 or n == 1):\n",
    "        q = n\n",
    "    else:\n",
    "        q = fibonacci_helper(n - 1, r) + fibonacci_helper(n - 2, r)\n",
    "    r[n] = q\n",
    " \n",
    "    return q\n",
    " \n",
    "def fibonacci(n):\n",
    "    \"\"\"Return the nth Fibonacci number.\"\"\"\n",
    "    # r[i] will contain the ith Fibonacci number\n",
    "    r = [-1]*(n + 1)\n",
    "    return fibonacci_helper(n, r)\n",
    " \n",
    "    \n",
    "n = 50\n",
    " \n",
    "%timeit ans = fibonacci(n)\n",
    "ans = fibonacci(n)\n",
    "print('The nth Fibonacci number:', ans)"
   ]
  },
  {
   "cell_type": "code",
   "execution_count": 26,
   "id": "c51bbff8-2710-4b14-95a8-0cc2e9ea126e",
   "metadata": {},
   "outputs": [
    {
     "name": "stdout",
     "output_type": "stream",
     "text": [
      "228 ns ± 91.7 ns per loop (mean ± std. dev. of 7 runs, 10,000 loops each)\n",
      "The nth Fibonacci number: 12586269025\n"
     ]
    }
   ],
   "source": [
    "# fast\n",
    "def fibonacci(n, r):\n",
    "\n",
    "    if r[n] >= 0:\n",
    "        return r[n]\n",
    " \n",
    "    if (n == 0 or n == 1):\n",
    "        q = n\n",
    "    else:\n",
    "        q = fibonacci(n - 1, r) + fibonacci(n - 2, r)\n",
    "        \n",
    "    # update the fib list\n",
    "    r[n] = q\n",
    "    return q\n",
    " \n",
    " \n",
    "    \n",
    "n = 50\n",
    "r = [-1]*(n + 1)\n",
    "%timeit -n 10000 fibonacci(n, r)\n",
    "\n",
    "ans = fibonacci(n, r)\n",
    "print('The nth Fibonacci number:', ans)"
   ]
  },
  {
   "cell_type": "markdown",
   "id": "ed1b7674-e45b-4126-aa26-091f162451ba",
   "metadata": {},
   "source": [
    "**Codility Task 1**"
   ]
  },
  {
   "cell_type": "code",
   "execution_count": 3,
   "id": "d8697399-ee8c-4ece-a922-63ee27558a41",
   "metadata": {},
   "outputs": [
    {
     "data": {
      "text/plain": [
       "1"
      ]
     },
     "execution_count": 3,
     "metadata": {},
     "output_type": "execute_result"
    }
   ],
   "source": [
    "# TASK 1\t\n",
    "\n",
    "def solution(X):\n",
    "    # write your code in Python 3.6\n",
    "    # each time a fibonanci number is generated\n",
    "    # compare this number with the target value, \n",
    "    # calculate the leftward difference and the rightward difference, \n",
    "    # and record this value until the generated\n",
    "    # fibonacci number is greater than the target Value, then jump out of the loop, \n",
    "    # compare the left difference and the right difference, and output the smaller value.\n",
    "    if X < 0 or X > 1000000:\n",
    "        raise ValueError(\"X is not in acceptab;e range.\")\n",
    "    if X == 0 or X == 1:\n",
    "        return 0\n",
    "    res = []\n",
    "    for i in range(X+1):\n",
    "        if i == 0:\n",
    "            res.append(i)\n",
    "        elif i == 1:\n",
    "            res.append(i) \n",
    "        else:\n",
    "            tmp = res[i-1] + res[i-2]\n",
    "            res.append(tmp)\n",
    "            if i > 1:\n",
    "                left = X - res[i-1]\n",
    "                # right = X - res[i+1]\n",
    "                if X == res[i]:\n",
    "                    return 0\n",
    "                elif res[i] > X:\n",
    "                    return X - res[i-1]\n",
    "                \n",
    "solution(9)"
   ]
  }
 ],
 "metadata": {
  "kernelspec": {
   "display_name": "Python 3 (ipykernel)",
   "language": "python",
   "name": "python3"
  },
  "language_info": {
   "codemirror_mode": {
    "name": "ipython",
    "version": 3
   },
   "file_extension": ".py",
   "mimetype": "text/x-python",
   "name": "python",
   "nbconvert_exporter": "python",
   "pygments_lexer": "ipython3",
   "version": "3.9.1"
  }
 },
 "nbformat": 4,
 "nbformat_minor": 5
}

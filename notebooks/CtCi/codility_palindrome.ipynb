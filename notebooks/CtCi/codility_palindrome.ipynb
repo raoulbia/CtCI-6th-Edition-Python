{
 "cells": [
  {
   "cell_type": "code",
   "execution_count": 33,
   "id": "470ae19d-b66b-40b8-adc4-44173c5b19e0",
   "metadata": {},
   "outputs": [
    {
     "name": "stdout",
     "output_type": "stream",
     "text": [
      "naoa\n",
      "defaultdict(<class 'int'>, {'a': 2, 'n': 3})\n",
      "1\n"
     ]
    },
    {
     "data": {
      "text/plain": [
       "'annna'"
      ]
     },
     "execution_count": 33,
     "metadata": {},
     "output_type": "execute_result"
    }
   ],
   "source": [
    "# WIP\n",
    "from collections import defaultdict\n",
    "\n",
    "def Solution(n, k):\n",
    "    if n == 1:\n",
    "        raise ValueError(\"can't do\") \n",
    "        \n",
    "    st = ''\n",
    "    for i in range(k):\n",
    "        st = st + random.choice(string.ascii_letters).lower()\n",
    "    print(st)\n",
    "    \n",
    "    # Generate first half of palindrome\n",
    "    firstHalf = \"\"\n",
    "    secondHalf = \"\"\n",
    "\n",
    "    for x in sorted(hmap.keys()):\n",
    "        # Build a string of floor(count/2)\n",
    "        # occurrences of current character\n",
    "        # // is the floor division operator\n",
    "        s = (hmap[x] // 2) * x\n",
    "\n",
    "        # Attach the built string to end of\n",
    "        # and begin of second half\n",
    "        firstHalf = firstHalf + s\n",
    "        secondHalf = s + secondHalf\n",
    "\n",
    "    # Insert odd character if there is any\n",
    "    if (oddCount == 1):\n",
    "        return (firstHalf + oddChar + secondHalf)\n",
    "    else:\n",
    "        return (firstHalf + secondHalf)\n",
    "    \n",
    "N = 7\n",
    "K = 4\n",
    "Solution(N, K)"
   ]
  },
  {
   "cell_type": "code",
   "execution_count": 35,
   "id": "f8b475d2-1773-4b62-9167-2f2df00670e8",
   "metadata": {},
   "outputs": [
    {
     "name": "stdout",
     "output_type": "stream",
     "text": [
      "defaultdict(<class 'int'>, {'a': 2, 'n': 2})\n",
      "0\n",
      "n\n",
      "an\n",
      "na\n"
     ]
    },
    {
     "data": {
      "text/plain": [
       "'anna'"
      ]
     },
     "execution_count": 35,
     "metadata": {},
     "output_type": "execute_result"
    }
   ],
   "source": [
    "# WIP\n",
    "from collections import defaultdict\n",
    "\n",
    "def Solution(st):\n",
    "    \n",
    "    # Store counts of characters\n",
    "    hmap = defaultdict(int)\n",
    "    for i in range(len(st)):\n",
    "        hmap[st[i]] += 1\n",
    "    print(hmap)\n",
    "    \n",
    "    # Find the number of odd elements.\n",
    "    oddCount = 0\n",
    "    for x in hmap:\n",
    "        if (hmap[x] % 2 != 0):\n",
    "            oddCount += 1\n",
    "            oddChar = x\n",
    "    print(oddCount)\n",
    "    \n",
    "    # odd_cnt = 1 only if the length of str is odd\n",
    "    if (oddCount > 1 or oddCount == 1 and len(st) % 2 == 0):\n",
    "        return \"NO PALINDROME\"\n",
    "\n",
    "    # Generate first half of palindrome\n",
    "    firstHalf = \"\"\n",
    "    secondHalf = \"\"\n",
    "\n",
    "    for x in sorted(hmap.keys()):\n",
    "        # Build a string of floor(count/2)\n",
    "        # occurrences of current character\n",
    "        s = (hmap[x] // 2) * x\n",
    "\n",
    "        # Attach the built string to end of\n",
    "        # and begin of second half\n",
    "        firstHalf = firstHalf + s\n",
    "        secondHalf = s + secondHalf\n",
    "\n",
    "    print(s)\n",
    "    print(firstHalf)\n",
    "    print(secondHalf)\n",
    "    # Insert odd character if there is any\n",
    "    if (oddCount == 1):\n",
    "        return (firstHalf + oddChar + secondHalf)\n",
    "    else:\n",
    "        return (firstHalf + secondHalf)\n",
    "\n",
    "Solution('anna')"
   ]
  }
 ],
 "metadata": {
  "kernelspec": {
   "display_name": "Python 3 (ipykernel)",
   "language": "python",
   "name": "python3"
  },
  "language_info": {
   "codemirror_mode": {
    "name": "ipython",
    "version": 3
   },
   "file_extension": ".py",
   "mimetype": "text/x-python",
   "name": "python",
   "nbconvert_exporter": "python",
   "pygments_lexer": "ipython3",
   "version": "3.9.1"
  }
 },
 "nbformat": 4,
 "nbformat_minor": 5
}

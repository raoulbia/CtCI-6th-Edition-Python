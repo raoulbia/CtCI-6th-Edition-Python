{
 "cells": [
  {
   "cell_type": "markdown",
   "id": "195431aa-3afc-4d9b-a387-e317eefa5cb1",
   "metadata": {},
   "source": [
    "**1.1 is_unique** algorithm to determine if a string has all unique characters ; without additional data structures\n",
    "\n",
    "Assumption: string is ASCII encoded >> ASCII encodes 128 chars"
   ]
  },
  {
   "cell_type": "code",
   "execution_count": 81,
   "id": "a66bd613-05ee-4cc6-b52d-c3e4f038c024",
   "metadata": {},
   "outputs": [
    {
     "name": "stdout",
     "output_type": "stream",
     "text": [
      "868 ns ± 118 ns per loop (mean ± std. dev. of 7 runs, 1,000,000 loops each)\n"
     ]
    }
   ],
   "source": [
    "# WO/ADDITIONAL DATA STRUCTURE\n",
    "\n",
    "\"\"\"\n",
    "(1) if string was to contain all possible ASCII chars and all chars are unique then len string cannot be > 128 \n",
    "(2) sort() will sort the list in-place, mutating its indexes and returning None , \n",
    "    whereas sorted() will return a new sorted list leaving the original list unchanged.\n",
    "    In this case, as we need to make a list anyway, use sorted()\n",
    "\n",
    "Big O\n",
    " - O(n) for inserting string xhars into a List + \n",
    " - O(n log(n)) for sorting + \n",
    " - O(n) for traversing string\n",
    "\n",
    ">> O(n + n log(n) + n) = O(2n + n log(n)) = O(n + n log(n)) = O(n log(n)) where n log(n) is the dominant term  \n",
    "\"\"\"\n",
    "\n",
    "# if allowed to sort string\n",
    "\n",
    "def is_unique(string):\n",
    "    if len(string) > 128: # (1)\n",
    "        return False \n",
    "    string_ls = sorted(string) # (2)\n",
    "    for i in range(len(string_ls)-1):\n",
    "        if string_ls[i] == string_ls[i+1]:\n",
    "            return False\n",
    "    return True\n",
    "    \n",
    "%timeit is_unique('abl')"
   ]
  },
  {
   "cell_type": "code",
   "execution_count": 80,
   "id": "bc8e6add-4494-4c6a-93df-e24c42482a25",
   "metadata": {},
   "outputs": [
    {
     "name": "stdout",
     "output_type": "stream",
     "text": [
      "980 ns ± 94.4 ns per loop (mean ± std. dev. of 7 runs, 1,000,000 loops each)\n"
     ]
    }
   ],
   "source": [
    "# WO/ADDITIONAL DATA STRUCTURE\n",
    "\n",
    "def is_unique(string):\n",
    "    if len(string) > 128: # (1)\n",
    "        return False\n",
    "    ls = []\n",
    "    for i, _ in enumerate(string):\n",
    "        val = ord(string[i]) # get ASCII value of char\n",
    "        if not val in ls:\n",
    "            ls.append(val)\n",
    "        else:\n",
    "            return False\n",
    "    return True\n",
    "\n",
    "%timeit is_unique('abl')"
   ]
  },
  {
   "cell_type": "markdown",
   "id": "a9b20685-b74f-4fcf-8abf-11110e4b8364",
   "metadata": {},
   "source": [
    "**1.2 Check Permutation** Given two strings decide whether one is a permutation of the other"
   ]
  },
  {
   "cell_type": "code",
   "execution_count": 96,
   "id": "b8166ce0-6244-4eeb-8965-7215b67d854c",
   "metadata": {},
   "outputs": [
    {
     "name": "stdout",
     "output_type": "stream",
     "text": [
      "723 ns ± 64.1 ns per loop (mean ± std. dev. of 7 runs, 1,000,000 loops each)\n"
     ]
    },
    {
     "data": {
      "text/plain": [
       "True"
      ]
     },
     "execution_count": 96,
     "metadata": {},
     "output_type": "execute_result"
    }
   ],
   "source": [
    "# sol 1: permutations of the same string are equal when sorted\n",
    "# O(n log(n)) + O(n log(n)) = O(n log(n) + n log(n)) = O(2(n log(n))) = O(n log(n))\n",
    "\n",
    "def is_permutation(string1, string2):\n",
    "    if len(string1) != len(string2):\n",
    "        return False\n",
    "    string1_ls, string2_ls = sorted(string1), sorted(string2)\n",
    "    if string1_ls == string2_ls:\n",
    "        return True\n",
    "    return False\n",
    "\n",
    "%timeit is_permutation('bla', 'lab')\n",
    "is_permutation('bla', 'lab')"
   ]
  },
  {
   "cell_type": "code",
   "execution_count": 104,
   "id": "7b79f020-4cd9-4605-a9fd-52629e2ad7af",
   "metadata": {},
   "outputs": [
    {
     "name": "stdout",
     "output_type": "stream",
     "text": [
      "2.07 µs ± 271 ns per loop (mean ± std. dev. of 7 runs, 100,000 loops each)\n"
     ]
    },
    {
     "data": {
      "text/plain": [
       "True"
      ]
     },
     "execution_count": 104,
     "metadata": {},
     "output_type": "execute_result"
    }
   ],
   "source": [
    "# sol 2: for each string, count how many times each char appears, then compare those counts\n",
    "# O(n) + O(n) + O(n) = O(3n) = O(n)\n",
    "\n",
    "def is_permutation(string1, string2):\n",
    "    if len(string1) != len(string2): # O(1)\n",
    "        return False\n",
    "    \n",
    "    letters = [0] * 128\n",
    "    for c in string1:\n",
    "        letters[ord(c)] += 1\n",
    "        \n",
    "    for c in string2:\n",
    "        if letters[ord(c)] == 0: # letter in string2 that isn't it string1 ....\n",
    "            return False\n",
    "        letters[ord(c)] += 1\n",
    "    return True\n",
    "\n",
    "%timeit is_permutation('bla', 'lab')\n",
    "is_permutation('bla', 'lab')"
   ]
  },
  {
   "cell_type": "markdown",
   "id": "23cac759-5430-41ee-84f8-ddcb4f498203",
   "metadata": {},
   "source": [
    "**1.3 URLify**\n",
    "\n",
    "two-scan approach\n",
    "* count the number of spaces and triple the count to replace with %20. This wll give us the final len of the string.\n",
    "* do in reverse order: when you see a space replace otherwise copy the original char."
   ]
  },
  {
   "cell_type": "code",
   "execution_count": 144,
   "id": "eed2359d-f633-48a2-83af-916c709131ef",
   "metadata": {},
   "outputs": [
    {
     "name": "stdout",
     "output_type": "stream",
     "text": [
      "3.46 µs ± 426 ns per loop (mean ± std. dev. of 7 runs, 100,000 loops each)\n"
     ]
    },
    {
     "data": {
      "text/plain": [
       "'Mr02%John02%Smith02%02%02%02%02%02%02%'"
      ]
     },
     "execution_count": 144,
     "metadata": {},
     "output_type": "execute_result"
    }
   ],
   "source": [
    "\"\"\"\n",
    "\"\"\"\n",
    "\n",
    "def urlify(string):\n",
    "    # scan 1\n",
    "    cnt = 0\n",
    "    for c in string: #  O(n) \n",
    "        if c == ' ':\n",
    "            cnt += 1\n",
    "    new_len = cnt * 3 \n",
    "    tmp = ''\n",
    "    string = string[::-1] #  O(n) \n",
    "    for c in string: #  O(n) \n",
    "        if c == ' ':\n",
    "            tmp += '%20'\n",
    "        else: \n",
    "            tmp += c\n",
    "    return tmp[::-1] #  O(n) \n",
    "\n",
    "string = \"Mr John Smith       \"\n",
    "%timeit urlify(string)\n",
    "urlify(string)"
   ]
  }
 ],
 "metadata": {
  "kernelspec": {
   "display_name": "Python 3 (ipykernel)",
   "language": "python",
   "name": "python3"
  },
  "language_info": {
   "codemirror_mode": {
    "name": "ipython",
    "version": 3
   },
   "file_extension": ".py",
   "mimetype": "text/x-python",
   "name": "python",
   "nbconvert_exporter": "python",
   "pygments_lexer": "ipython3",
   "version": "3.9.1"
  }
 },
 "nbformat": 4,
 "nbformat_minor": 5
}

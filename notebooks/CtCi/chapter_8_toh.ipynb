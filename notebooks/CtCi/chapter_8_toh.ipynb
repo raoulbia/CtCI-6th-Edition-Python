{
 "cells": [
  {
   "cell_type": "code",
   "execution_count": null,
   "id": "11626f1c-1307-46c3-b24e-266be062c0c7",
   "metadata": {},
   "outputs": [],
   "source": [
    "\"\"\"\n",
    "moveDisks(n, origin, destination, buffer)\n",
    "    # base case\n",
    "    if n<=0 return\n",
    "    \n",
    "    # move top n-1 disks from origin to buffer using destination as buffer\n",
    "    moveDisks(n-1, origin, buffer, destination)\n",
    "    \n",
    "    # move top from origin to destination\n",
    "    moveTop(origin, destination)\n",
    "    \n",
    "    # move top n-1 disks from buffer to destination using origin as buffer\n",
    "    moveDisks(n-1, buffer, destination, origin)\n",
    "\"\"\""
   ]
  },
  {
   "cell_type": "code",
   "execution_count": 2,
   "id": "20a0653b-d5ff-4f58-b7d3-32a8da5bf49c",
   "metadata": {},
   "outputs": [],
   "source": [
    "from collections import deque"
   ]
  },
  {
   "cell_type": "code",
   "execution_count": 6,
   "id": "01c103d8-83bc-4cb9-9375-a4057aca061d",
   "metadata": {},
   "outputs": [],
   "source": [
    "origin = deque()\n",
    "buffer = deque()\n",
    "dest  = deque()"
   ]
  },
  {
   "cell_type": "code",
   "execution_count": 20,
   "id": "1eb5c067-21cd-4c39-ab1d-27df4748e20f",
   "metadata": {},
   "outputs": [
    {
     "name": "stdout",
     "output_type": "stream",
     "text": [
      "origin: deque(['medium', 'large'])\n",
      "1\n",
      "origin: deque([])\n",
      "buffer: deque(['large', 'medium'])\n",
      "dest: deque([])\n"
     ]
    }
   ],
   "source": [
    "def moveDisks(n, origin, dest, buffer):\n",
    "    # base case\n",
    "    if n <= 0:\n",
    "        return\n",
    "    \n",
    "    # move top n-1 disks from origin to buffer using destination as buffer\n",
    "    for n in range(1, n):\n",
    "        print(n)\n",
    "        dest.append(origin.popleft()) # disk 1 from O to B\n",
    "        buffer.append(origin.popleft()) # disk 2 from O to D\n",
    "        buffer.append(dest.popleft()) # disk 1 from B to D\n",
    "        \n",
    "    \n",
    "    # move top from origin to destination\n",
    "    # moveTop(origin, dest)\n",
    "    \n",
    "    # move top n-1 disks from buffer to destination using origin as buffer\n",
    "    # moveDisks(n-1, buffer, dest, origin)\n",
    "    \n",
    "origin = deque()\n",
    "# origin.append('small')\n",
    "origin.append('medium')\n",
    "origin.append('large')\n",
    "print(f'origin: {origin}')\n",
    "buffer = deque()\n",
    "dest  = deque()\n",
    "moveDisks(2, origin, dest, buffer)\n",
    "print(f'origin: {origin}')\n",
    "print(f'buffer: {buffer}')\n",
    "print(f'dest: {dest}')"
   ]
  }
 ],
 "metadata": {
  "kernelspec": {
   "display_name": "Python 3 (ipykernel)",
   "language": "python",
   "name": "python3"
  },
  "language_info": {
   "codemirror_mode": {
    "name": "ipython",
    "version": 3
   },
   "file_extension": ".py",
   "mimetype": "text/x-python",
   "name": "python",
   "nbconvert_exporter": "python",
   "pygments_lexer": "ipython3",
   "version": "3.9.1"
  }
 },
 "nbformat": 4,
 "nbformat_minor": 5
}
